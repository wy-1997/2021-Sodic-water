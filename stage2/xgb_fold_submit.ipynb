{
 "cells": [
  {
   "cell_type": "code",
   "execution_count": 1,
   "metadata": {},
   "outputs": [],
   "source": [
    "import pandas as pd\n",
    "import numpy as np\n",
    "import os\n",
    "import lightgbm\n",
    "from sklearn.model_selection import KFold\n",
    "from sklearn.metrics import mean_squared_error \n",
    "from borax.calendars.lunardate import LunarDate\n",
    "import xgboost as xgb\n"
   ]
  },
  {
   "cell_type": "code",
   "execution_count": 1,
   "metadata": {},
   "outputs": [],
   "source": [
    "def yang2nong(date):\n",
    "    \n",
    "    year = int(date[:4])\n",
    "    month = int(date[4:6])\n",
    "    day = int(date[6:8])\n",
    "    \n",
    "    nong =  LunarDate.from_solar_date(year, month, day)\n",
    "    \n",
    "    res = nong.__format__('%y-%m-%d')\n",
    "    return res\n",
    "\n",
    "def create_features(dataframe):\n",
    "    dataframe['date'] = pd.to_datetime(dataframe['date'])\n",
    "    dataframe['month'] = dataframe.date.dt.month\n",
    "    dataframe['day_of_month'] = dataframe.date.dt.day\n",
    "    dataframe['day_of_year'] = dataframe.date.dt.dayofyear\n",
    "    dataframe['week_of_year'] = dataframe.date.dt.weekofyear\n",
    "    dataframe['day_of_week'] = dataframe.date.dt.dayofweek + 1\n",
    "    dataframe['year'] = dataframe.date.dt.year\n",
    "    dataframe['is_wknd'] = dataframe.date.dt.weekday // 4\n",
    "    dataframe['is_month_start'] = dataframe.date.dt.is_month_start.astype(int)\n",
    "    dataframe['is_month_end'] = dataframe.date.dt.is_month_end.astype(int)\n",
    "    dataframe['quarter'] = dataframe.date.dt.quarter\n",
    "    dataframe['week_block_num'] = [int(x) for x in np.floor((dataframe.date - pd.to_datetime('2017-12-31')).dt.days / 7) + 1]\n",
    "    dataframe['quarter_block_num'] = (dataframe['year'] - 2018) * 4 + dataframe['quarter']\n",
    "    dataframe['week_of_month'] = dataframe['week_of_year'].values // 4.35\n",
    "\n",
    "    #新增星期几时间变量\n",
    "    dataframe['is_Mon'] = np.where(dataframe['day_of_week'] == 1, 1, 0)                                                                                       \n",
    "    dataframe['is_Tue'] = np.where(dataframe['day_of_week'] == 2, 1, 0)                                                                                         \n",
    "    dataframe['is_Wed'] = np.where(dataframe['day_of_week'] == 3, 1, 0)                                                                                         \n",
    "    dataframe['is_Thu'] = np.where(dataframe['day_of_week'] == 4, 1, 0)                                                                                         \n",
    "    dataframe['is_Fri'] = np.where(dataframe['day_of_week'] == 5, 1, 0)                                                                                         \n",
    "    dataframe['is_Sat'] = np.where(dataframe['day_of_week'] == 6, 1, 0)                                                                                         \n",
    "    dataframe['is_Sun'] = np.where(dataframe['day_of_week'] == 7, 1, 0)\n",
    "    #新增每月上中下旬\n",
    "    dataframe['day_of_month_10days']=np.where((dataframe['day_of_month']<=10) == 1, 1, 0)\n",
    "    dataframe['day_of_month_20days']=np.where(((dataframe['day_of_month']>10)&(dataframe['day_of_month']<=20)) == 1, 1, 0)\n",
    "    dataframe['day_of_month_30days']=np.where((dataframe['day_of_month']>20) == 1, 1, 0)\n",
    "    dataframe['day_of_year_>180days']=np.where((dataframe['day_of_year']>180) == 1, 1, 0)\n",
    "    dataframe['day_of_year_<180days']=np.where((dataframe['day_of_year']<=180) == 1, 1, 0)\n",
    "\n",
    "    dataframe['abs_month']=dataframe['day_of_month'].apply(lambda x: abs(x-16)+1)\n",
    "    \n",
    "    \n",
    "    dataframe['CH_month'] = dataframe.China_date.dt.month  #农历月\n",
    "    dataframe['CH_day_of_month'] = dataframe.China_date.dt.day #农历日\n",
    "    dataframe['CH_day_of_year'] = dataframe.China_date.dt.dayofyear #农历的哪一天\n",
    "    dataframe['abs_year']=dataframe['CH_day_of_year'].apply(lambda x: abs(x-182)+1)    \n",
    "    \n",
    "    #dataframe.drop(['date','post_id'],axis=1,inplace=True)\n",
    "    return dataframe"
   ]
  },
  {
   "cell_type": "code",
   "execution_count": 3,
   "metadata": {},
   "outputs": [],
   "source": [
    "#数据读取与wkd表连接\n",
    "train_df=pd.read_csv('../data/train.csv')\n",
    "train_df.columns=['date','A','B']\n",
    "train_df.date=pd.to_datetime(train_df.date)\n",
    "test_day=pd.read_csv('../data/test.csv')#按天计算\n",
    "wkd=pd.read_csv('../data/wkd_v1.csv')\n",
    "wkd=wkd.rename(columns={'ORIG_DT':'date'})\n",
    "wkd.date=pd.to_datetime(wkd.date)\n",
    "train_df=train_df.merge(wkd,on='date',how='left')\n",
    "test_day.columns = ['date','A','B']\n",
    "test_day.date = pd.to_datetime(test_day.date)\n",
    "test_day = test_day.merge(wkd,on='date',how='left')\n",
    "\n",
    "#进行农历转换\n",
    "test_day['date1'] = test_day.date.dt.strftime('%Y%m%d')\n",
    "test_day['China_date']=test_day['date1'].apply(lambda x: yang2nong(x))\n",
    "#农历2月不同与公历2月，\n",
    "#因此采用前向填充方式以构建pandas时间戳，难题在与20年存在的闰四月现象    \n",
    "test_day.replace(['2018-2-29','2018-2-30','2019-2-29',\n",
    "            '2020-2-29','2020-2-30'],np.nan,inplace=True)\n",
    "    \n",
    "test_day['China_date']=test_day['China_date'].fillna(method='ffill')\n",
    "test_day['China_date'] = pd.to_datetime(test_day['China_date'])\n",
    "\n",
    "#进行农历转换\n",
    "train_df['date1'] = train_df.date.dt.strftime('%Y%m%d')\n",
    "train_df['China_date']=train_df['date1'].apply(lambda x: yang2nong(x))\n",
    "#农历2月不同与公历2月，\n",
    "#因此采用前向填充方式以构建pandas时间戳，难题在与20年存在的闰四月现象    \n",
    "train_df.replace(['2018-2-29','2018-2-30','2019-2-29',\n",
    "            '2020-2-29','2020-2-30'],np.nan,inplace=True)\n",
    "    \n",
    "train_df['China_date']=train_df['China_date'].fillna(method='ffill')\n",
    "train_df['China_date'] = pd.to_datetime(train_df['China_date'])"
   ]
  },
  {
   "cell_type": "code",
   "execution_count": 5,
   "metadata": {},
   "outputs": [
    {
     "name": "stderr",
     "output_type": "stream",
     "text": [
      "C:\\Users\\28947\\Anaconda\\lib\\site-packages\\ipykernel_launcher.py:13: SettingWithCopyWarning: \n",
      "A value is trying to be set on a copy of a slice from a DataFrame.\n",
      "Try using .loc[row_indexer,col_indexer] = value instead\n",
      "\n",
      "See the caveats in the documentation: https://pandas.pydata.org/pandas-docs/stable/user_guide/indexing.html#returning-a-view-versus-a-copy\n",
      "  del sys.path[0]\n",
      "C:\\Users\\28947\\Anaconda\\lib\\site-packages\\ipykernel_launcher.py:14: SettingWithCopyWarning: \n",
      "A value is trying to be set on a copy of a slice from a DataFrame.\n",
      "Try using .loc[row_indexer,col_indexer] = value instead\n",
      "\n",
      "See the caveats in the documentation: https://pandas.pydata.org/pandas-docs/stable/user_guide/indexing.html#returning-a-view-versus-a-copy\n",
      "  \n",
      "C:\\Users\\28947\\Anaconda\\lib\\site-packages\\ipykernel_launcher.py:17: FutureWarning: Series.dt.weekofyear and Series.dt.week have been deprecated.  Please use Series.dt.isocalendar().week instead.\n",
      "C:\\Users\\28947\\Anaconda\\lib\\site-packages\\ipykernel_launcher.py:13: SettingWithCopyWarning: \n",
      "A value is trying to be set on a copy of a slice from a DataFrame.\n",
      "Try using .loc[row_indexer,col_indexer] = value instead\n",
      "\n",
      "See the caveats in the documentation: https://pandas.pydata.org/pandas-docs/stable/user_guide/indexing.html#returning-a-view-versus-a-copy\n",
      "  del sys.path[0]\n",
      "C:\\Users\\28947\\Anaconda\\lib\\site-packages\\ipykernel_launcher.py:14: SettingWithCopyWarning: \n",
      "A value is trying to be set on a copy of a slice from a DataFrame.\n",
      "Try using .loc[row_indexer,col_indexer] = value instead\n",
      "\n",
      "See the caveats in the documentation: https://pandas.pydata.org/pandas-docs/stable/user_guide/indexing.html#returning-a-view-versus-a-copy\n",
      "  \n",
      "C:\\Users\\28947\\Anaconda\\lib\\site-packages\\ipykernel_launcher.py:17: FutureWarning: Series.dt.weekofyear and Series.dt.week have been deprecated.  Please use Series.dt.isocalendar().week instead.\n",
      "C:\\Users\\28947\\Anaconda\\lib\\site-packages\\ipykernel_launcher.py:13: SettingWithCopyWarning: \n",
      "A value is trying to be set on a copy of a slice from a DataFrame.\n",
      "Try using .loc[row_indexer,col_indexer] = value instead\n",
      "\n",
      "See the caveats in the documentation: https://pandas.pydata.org/pandas-docs/stable/user_guide/indexing.html#returning-a-view-versus-a-copy\n",
      "  del sys.path[0]\n",
      "C:\\Users\\28947\\Anaconda\\lib\\site-packages\\ipykernel_launcher.py:14: SettingWithCopyWarning: \n",
      "A value is trying to be set on a copy of a slice from a DataFrame.\n",
      "Try using .loc[row_indexer,col_indexer] = value instead\n",
      "\n",
      "See the caveats in the documentation: https://pandas.pydata.org/pandas-docs/stable/user_guide/indexing.html#returning-a-view-versus-a-copy\n",
      "  \n",
      "C:\\Users\\28947\\Anaconda\\lib\\site-packages\\ipykernel_launcher.py:17: FutureWarning: Series.dt.weekofyear and Series.dt.week have been deprecated.  Please use Series.dt.isocalendar().week instead.\n",
      "C:\\Users\\28947\\Anaconda\\lib\\site-packages\\ipykernel_launcher.py:13: SettingWithCopyWarning: \n",
      "A value is trying to be set on a copy of a slice from a DataFrame.\n",
      "Try using .loc[row_indexer,col_indexer] = value instead\n",
      "\n",
      "See the caveats in the documentation: https://pandas.pydata.org/pandas-docs/stable/user_guide/indexing.html#returning-a-view-versus-a-copy\n",
      "  del sys.path[0]\n",
      "C:\\Users\\28947\\Anaconda\\lib\\site-packages\\ipykernel_launcher.py:14: SettingWithCopyWarning: \n",
      "A value is trying to be set on a copy of a slice from a DataFrame.\n",
      "Try using .loc[row_indexer,col_indexer] = value instead\n",
      "\n",
      "See the caveats in the documentation: https://pandas.pydata.org/pandas-docs/stable/user_guide/indexing.html#returning-a-view-versus-a-copy\n",
      "  \n",
      "C:\\Users\\28947\\Anaconda\\lib\\site-packages\\ipykernel_launcher.py:17: FutureWarning: Series.dt.weekofyear and Series.dt.week have been deprecated.  Please use Series.dt.isocalendar().week instead.\n"
     ]
    }
   ],
   "source": [
    "train_day_df_A = train_df[['date','A','WKD_TYP_CD','China_date']]\n",
    "train_day_df_B = train_df[['date','B','WKD_TYP_CD','China_date']]\n",
    "\n",
    "train_day_df_A=create_features(train_day_df_A)\n",
    "train_day_df_B=create_features(train_day_df_B)\n",
    "\n",
    "train_day_df_A['A']=train_day_df_A['A']\n",
    "train_day_df_B['B']=train_day_df_B['B']\n",
    "\n",
    "test_day_df_A = test_day[['date','A','WKD_TYP_CD','China_date']]\n",
    "test_day_df_B = test_day[['date','B','WKD_TYP_CD','China_date']]\n",
    "test_day_df_A=create_features(test_day_df_A)\n",
    "test_day_df_B=create_features(test_day_df_B)"
   ]
  },
  {
   "cell_type": "code",
   "execution_count": 31,
   "metadata": {},
   "outputs": [],
   "source": [
    "def my_mape(real_value, pre_value): \n",
    "    real_value, pre_value = np.array(real_value), np.array(pre_value)\n",
    "    return np.mean(np.abs((real_value - pre_value) /( real_value+1)))\n",
    "def eval_score(pre, train_set):\n",
    "    real = train_set.get_label()\n",
    "    score = my_mape(real, pre)\n",
    "    return 'eval_score', score\n",
    "def xgb_model2(train_x, train_y, test_x):\n",
    "    predictors = list(train_x.columns)\n",
    "    train_x = train_x.values\n",
    "    test_x = test_x.values\n",
    "    folds = 10\n",
    "    seed = 2021\n",
    "    kf = KFold(n_splits=folds, shuffle=True, random_state=seed)\n",
    "    train = np.zeros((train_x.shape[0]))\n",
    "    test = np.zeros((test_x.shape[0]))\n",
    "    test_pre = np.zeros((folds, test_x.shape[0]))\n",
    "    total_prevalue_test = np.zeros((folds, test_x.shape[0]))\n",
    "    cv_scores = []\n",
    "    cv_rounds = []\n",
    "\n",
    "    for i, (train_index, test_index) in enumerate(kf.split(train_x, train_y)):\n",
    "        print(\"Fold\", i)\n",
    "        X = train_x[train_index]\n",
    "        Y = train_y[train_index]\n",
    "        fol_x = train_x[test_index]\n",
    "        fol_y = train_y[test_index]\n",
    "        train_matrix = xgb.DMatrix(X, label=Y)\n",
    "        test_matrix = xgb.DMatrix(fol_x, label=fol_y)\n",
    "        evals = [(train_matrix, 'train'), (test_matrix, 'val')]\n",
    "        params = {\n",
    "            'booster': 'gbtree',\n",
    "            'objective': 'reg:squarederror',\n",
    "            'min_child_weight':10,\n",
    "            'max_depth': 10,\n",
    "            'colsample_bylevel':0.8,\n",
    "            'subsample': 0.8,\n",
    "            'colsample_bytree': 0.8,\n",
    "            'learning_rate': 0.1,\n",
    "            'seed': 2021,\n",
    "            'nthread': 8,\n",
    "        }\n",
    "        num_round = 4000\n",
    "        early_stopping_rounds = 200\n",
    "        if test_matrix:\n",
    "            model = xgb.train(params, train_matrix, num_round, evals=evals, verbose_eval=200,feval=eval_score,\n",
    "                              early_stopping_rounds=early_stopping_rounds\n",
    "                              )\n",
    "\n",
    "            pre = model.predict(xgb.DMatrix(fol_x),ntree_limit = model.best_iteration)\n",
    "            pred = model.predict(xgb.DMatrix(test_x),ntree_limit = model.best_iteration)\n",
    "            train[test_index] = pre\n",
    "            test_pre[i, :] = pred\n",
    "            cv_scores.append(mean_squared_error (fol_y, pre))\n",
    "            cv_rounds.append(model.best_iteration)\n",
    "            total_prevalue_test[i, :] = pred\n",
    "            \n",
    "    val_pre = model.predict(xgb.DMatrix(train_x[-30:]))\n",
    "    print(f\"A厂的验证集mape为{mape(val_pre, train_y[-30:])}\")\n",
    "    \n",
    "    print(\"error_score is:\", cv_scores)\n",
    "    test[:] = test_pre.mean(axis=0)\n",
    "    #-----------------------------------------\n",
    "    print(\"val_mean:\" , np.mean(cv_scores))\n",
    "    print(\"val_std:\", np.std(cv_scores))\n",
    "    return model,train, test, total_prevalue_test, np.mean(cv_scores)\n",
    "\n",
    "def mape(y_true, y_pred):\n",
    "    y_true, y_pred = np.array(y_true), np.array(y_pred)\n",
    "    return np.mean(np.abs((y_true - y_pred) / (y_true))) "
   ]
  },
  {
   "cell_type": "code",
   "execution_count": 32,
   "metadata": {},
   "outputs": [
    {
     "data": {
      "text/plain": [
       "Index(['date', 'A', 'WKD_TYP_CD', 'China_date', 'month', 'day_of_month',\n",
       "       'day_of_year', 'week_of_year', 'day_of_week', 'year', 'is_wknd',\n",
       "       'is_month_start', 'is_month_end', 'quarter', 'week_block_num',\n",
       "       'quarter_block_num', 'week_of_month', 'is_Mon', 'is_Tue', 'is_Wed',\n",
       "       'is_Thu', 'is_Fri', 'is_Sat', 'is_Sun', 'day_of_month_10days',\n",
       "       'day_of_month_20days', 'day_of_month_30days', 'day_of_year_>180days',\n",
       "       'day_of_year_<180days', 'month_WKD_TYP_CD', 'month_length',\n",
       "       'week_WKD_TYP_CD', 'm10days_WKD_TYP_CD', 'm20days_WKD_TYP_CD',\n",
       "       'm30days_WKD_TYP_CD', 'abs_month', 'CH_month', 'CH_day_of_month',\n",
       "       'CH_day_of_year', 'abs_year'],\n",
       "      dtype='object')"
      ]
     },
     "execution_count": 32,
     "metadata": {},
     "output_type": "execute_result"
    }
   ],
   "source": [
    "train_day_df_A.columns"
   ]
  },
  {
   "cell_type": "code",
   "execution_count": 34,
   "metadata": {},
   "outputs": [
    {
     "name": "stdout",
     "output_type": "stream",
     "text": [
      "特征维度A： (489, 8)\n",
      "Fold 0\n",
      "[0]\ttrain-rmse:203734.15625\ttrain-eval_score:0.89868\tval-rmse:206782.93750\tval-eval_score:0.89876\n",
      "[200]\ttrain-rmse:3619.38013\ttrain-eval_score:0.01267\tval-rmse:13582.57617\tval-eval_score:0.04145\n",
      "[400]\ttrain-rmse:2041.80798\ttrain-eval_score:0.00716\tval-rmse:13560.96484\tval-eval_score:0.04040\n",
      "[509]\ttrain-rmse:1568.26355\ttrain-eval_score:0.00555\tval-rmse:13575.98731\tval-eval_score:0.04027\n",
      "Fold 1\n",
      "[0]\ttrain-rmse:203852.01562\ttrain-eval_score:0.89861\tval-rmse:205201.37500\tval-eval_score:0.89880\n"
     ]
    },
    {
     "name": "stderr",
     "output_type": "stream",
     "text": [
      "C:\\Users\\28947\\Anaconda\\lib\\site-packages\\xgboost\\core.py:104: UserWarning: ntree_limit is deprecated, use `iteration_range` or model slicing instead.\n",
      "  UserWarning\n"
     ]
    },
    {
     "name": "stdout",
     "output_type": "stream",
     "text": [
      "[200]\ttrain-rmse:3831.87524\ttrain-eval_score:0.01336\tval-rmse:12387.78711\tval-eval_score:0.04288\n",
      "[335]\ttrain-rmse:2541.49268\ttrain-eval_score:0.00890\tval-rmse:12256.57324\tval-eval_score:0.04250\n",
      "Fold 2\n",
      "[0]\ttrain-rmse:204092.92188\ttrain-eval_score:0.89874\tval-rmse:203367.00000\tval-eval_score:0.89748\n"
     ]
    },
    {
     "name": "stderr",
     "output_type": "stream",
     "text": [
      "C:\\Users\\28947\\Anaconda\\lib\\site-packages\\xgboost\\core.py:104: UserWarning: ntree_limit is deprecated, use `iteration_range` or model slicing instead.\n",
      "  UserWarning\n"
     ]
    },
    {
     "name": "stdout",
     "output_type": "stream",
     "text": [
      "[200]\ttrain-rmse:3834.43799\ttrain-eval_score:0.01332\tval-rmse:8401.84766\tval-eval_score:0.03030\n",
      "[400]\ttrain-rmse:2150.81177\ttrain-eval_score:0.00746\tval-rmse:8003.97900\tval-eval_score:0.02907\n",
      "[600]\ttrain-rmse:1371.20850\ttrain-eval_score:0.00482\tval-rmse:7965.81055\tval-eval_score:0.02921\n",
      "[692]\ttrain-rmse:1131.75366\ttrain-eval_score:0.00399\tval-rmse:8011.36133\tval-eval_score:0.02927\n",
      "Fold 3\n",
      "[0]\ttrain-rmse:204113.10938\ttrain-eval_score:0.89908\tval-rmse:202943.37500\tval-eval_score:0.89816\n"
     ]
    },
    {
     "name": "stderr",
     "output_type": "stream",
     "text": [
      "C:\\Users\\28947\\Anaconda\\lib\\site-packages\\xgboost\\core.py:104: UserWarning: ntree_limit is deprecated, use `iteration_range` or model slicing instead.\n",
      "  UserWarning\n"
     ]
    },
    {
     "name": "stdout",
     "output_type": "stream",
     "text": [
      "[200]\ttrain-rmse:3768.34082\ttrain-eval_score:0.01312\tval-rmse:11109.76172\tval-eval_score:0.03489\n",
      "[400]\ttrain-rmse:2111.01147\ttrain-eval_score:0.00751\tval-rmse:11384.75293\tval-eval_score:0.03458\n",
      "[600]\ttrain-rmse:1337.99280\ttrain-eval_score:0.00483\tval-rmse:11556.85840\tval-eval_score:0.03529\n",
      "[609]\ttrain-rmse:1312.53149\ttrain-eval_score:0.00474\tval-rmse:11567.55078\tval-eval_score:0.03527\n",
      "Fold 4\n",
      "[0]\ttrain-rmse:204619.40625\ttrain-eval_score:0.89866\tval-rmse:198138.39062\tval-eval_score:0.89747\n"
     ]
    },
    {
     "name": "stderr",
     "output_type": "stream",
     "text": [
      "C:\\Users\\28947\\Anaconda\\lib\\site-packages\\xgboost\\core.py:104: UserWarning: ntree_limit is deprecated, use `iteration_range` or model slicing instead.\n",
      "  UserWarning\n"
     ]
    },
    {
     "name": "stdout",
     "output_type": "stream",
     "text": [
      "[200]\ttrain-rmse:3720.15454\ttrain-eval_score:0.01315\tval-rmse:10440.31055\tval-eval_score:0.03423\n",
      "[381]\ttrain-rmse:2140.20947\ttrain-eval_score:0.00758\tval-rmse:10580.64648\tval-eval_score:0.03515\n",
      "Fold 5\n",
      "[0]\ttrain-rmse:203403.84375\ttrain-eval_score:0.89857\tval-rmse:210043.54688\tval-eval_score:0.90135\n"
     ]
    },
    {
     "name": "stderr",
     "output_type": "stream",
     "text": [
      "C:\\Users\\28947\\Anaconda\\lib\\site-packages\\xgboost\\core.py:104: UserWarning: ntree_limit is deprecated, use `iteration_range` or model slicing instead.\n",
      "  UserWarning\n"
     ]
    },
    {
     "name": "stdout",
     "output_type": "stream",
     "text": [
      "[200]\ttrain-rmse:3747.14893\ttrain-eval_score:0.01331\tval-rmse:12109.47656\tval-eval_score:0.04533\n",
      "[400]\ttrain-rmse:2093.92944\ttrain-eval_score:0.00757\tval-rmse:11902.20996\tval-eval_score:0.04376\n",
      "[600]\ttrain-rmse:1370.89380\ttrain-eval_score:0.00501\tval-rmse:11869.74414\tval-eval_score:0.04321\n",
      "[800]\ttrain-rmse:938.68854\ttrain-eval_score:0.00345\tval-rmse:11819.48926\tval-eval_score:0.04287\n",
      "[1000]\ttrain-rmse:666.24213\ttrain-eval_score:0.00246\tval-rmse:11780.93848\tval-eval_score:0.04269\n",
      "[1200]\ttrain-rmse:477.83301\ttrain-eval_score:0.00179\tval-rmse:11780.74512\tval-eval_score:0.04261\n",
      "[1395]\ttrain-rmse:351.10223\ttrain-eval_score:0.00131\tval-rmse:11801.47949\tval-eval_score:0.04267\n",
      "Fold 6\n",
      "[0]\ttrain-rmse:204160.01562\ttrain-eval_score:0.89867\tval-rmse:202405.20312\tval-eval_score:0.89810\n"
     ]
    },
    {
     "name": "stderr",
     "output_type": "stream",
     "text": [
      "C:\\Users\\28947\\Anaconda\\lib\\site-packages\\xgboost\\core.py:104: UserWarning: ntree_limit is deprecated, use `iteration_range` or model slicing instead.\n",
      "  UserWarning\n"
     ]
    },
    {
     "name": "stdout",
     "output_type": "stream",
     "text": [
      "[200]\ttrain-rmse:3763.95215\ttrain-eval_score:0.01304\tval-rmse:10607.45898\tval-eval_score:0.03602\n",
      "[400]\ttrain-rmse:2073.89282\ttrain-eval_score:0.00735\tval-rmse:10669.75195\tval-eval_score:0.03548\n",
      "[600]\ttrain-rmse:1341.49206\ttrain-eval_score:0.00482\tval-rmse:10740.30566\tval-eval_score:0.03544\n",
      "[679]\ttrain-rmse:1145.33460\ttrain-eval_score:0.00414\tval-rmse:10796.63281\tval-eval_score:0.03570\n",
      "Fold 7\n",
      "[0]\ttrain-rmse:204267.42188\ttrain-eval_score:0.89846\tval-rmse:201224.15625\tval-eval_score:0.89749\n"
     ]
    },
    {
     "name": "stderr",
     "output_type": "stream",
     "text": [
      "C:\\Users\\28947\\Anaconda\\lib\\site-packages\\xgboost\\core.py:104: UserWarning: ntree_limit is deprecated, use `iteration_range` or model slicing instead.\n",
      "  UserWarning\n"
     ]
    },
    {
     "name": "stdout",
     "output_type": "stream",
     "text": [
      "[200]\ttrain-rmse:3725.09937\ttrain-eval_score:0.01293\tval-rmse:11277.42969\tval-eval_score:0.04093\n",
      "[335]\ttrain-rmse:2490.71606\ttrain-eval_score:0.00876\tval-rmse:11178.09277\tval-eval_score:0.04111\n",
      "Fold 8\n",
      "[0]\ttrain-rmse:203882.45312\ttrain-eval_score:0.89886\tval-rmse:205442.37500\tval-eval_score:0.89856\n"
     ]
    },
    {
     "name": "stderr",
     "output_type": "stream",
     "text": [
      "C:\\Users\\28947\\Anaconda\\lib\\site-packages\\xgboost\\core.py:104: UserWarning: ntree_limit is deprecated, use `iteration_range` or model slicing instead.\n",
      "  UserWarning\n"
     ]
    },
    {
     "name": "stdout",
     "output_type": "stream",
     "text": [
      "[200]\ttrain-rmse:3814.46777\ttrain-eval_score:0.01324\tval-rmse:9915.38086\tval-eval_score:0.03401\n",
      "[400]\ttrain-rmse:2191.24829\ttrain-eval_score:0.00775\tval-rmse:10012.91797\tval-eval_score:0.03444\n",
      "[455]\ttrain-rmse:1939.63818\ttrain-eval_score:0.00690\tval-rmse:9986.69629\tval-eval_score:0.03429\n",
      "Fold 9\n",
      "[0]\ttrain-rmse:203928.73438\ttrain-eval_score:0.89834\tval-rmse:204031.18750\tval-eval_score:0.89751\n"
     ]
    },
    {
     "name": "stderr",
     "output_type": "stream",
     "text": [
      "C:\\Users\\28947\\Anaconda\\lib\\site-packages\\xgboost\\core.py:104: UserWarning: ntree_limit is deprecated, use `iteration_range` or model slicing instead.\n",
      "  UserWarning\n"
     ]
    },
    {
     "name": "stdout",
     "output_type": "stream",
     "text": [
      "[200]\ttrain-rmse:3816.46436\ttrain-eval_score:0.01304\tval-rmse:10203.63086\tval-eval_score:0.03937\n",
      "[400]\ttrain-rmse:2107.81006\ttrain-eval_score:0.00730\tval-rmse:9907.56934\tval-eval_score:0.03827\n",
      "[600]\ttrain-rmse:1324.91419\ttrain-eval_score:0.00470\tval-rmse:9758.48535\tval-eval_score:0.03757\n",
      "[800]\ttrain-rmse:878.24890\ttrain-eval_score:0.00318\tval-rmse:9793.95508\tval-eval_score:0.03757\n",
      "[921]\ttrain-rmse:702.96668\ttrain-eval_score:0.00255\tval-rmse:9823.77539\tval-eval_score:0.03770\n",
      "A厂的验证集mape为0.008533877773645235\n",
      "error_score is: [184095659.23677656, 147418552.14947385, 62813950.4684822, 129199789.31174766, 108431327.41506398, 138766666.37423396, 113880654.95063376, 125530480.7482711, 97821097.68815768, 95492101.07125854]\n",
      "val_mean: 120345027.94140992\n",
      "val_std: 31401139.8639408\n",
      "特征维度B： (519, 8)\n",
      "Fold 0\n",
      "[0]\ttrain-rmse:186954.89062\ttrain-eval_score:0.89919\tval-rmse:181943.29688\tval-eval_score:0.89802\n"
     ]
    },
    {
     "name": "stderr",
     "output_type": "stream",
     "text": [
      "C:\\Users\\28947\\Anaconda\\lib\\site-packages\\xgboost\\core.py:104: UserWarning: ntree_limit is deprecated, use `iteration_range` or model slicing instead.\n",
      "  UserWarning\n"
     ]
    },
    {
     "name": "stdout",
     "output_type": "stream",
     "text": [
      "[200]\ttrain-rmse:2698.83716\ttrain-eval_score:0.01000\tval-rmse:10100.61621\tval-eval_score:0.03225\n",
      "[400]\ttrain-rmse:1394.92346\ttrain-eval_score:0.00547\tval-rmse:10123.62207\tval-eval_score:0.03170\n",
      "[526]\ttrain-rmse:1002.79718\ttrain-eval_score:0.00403\tval-rmse:10155.75977\tval-eval_score:0.03150\n",
      "Fold 1\n",
      "[0]\ttrain-rmse:185903.35938\ttrain-eval_score:0.89946\tval-rmse:191660.59375\tval-eval_score:0.90116\n"
     ]
    },
    {
     "name": "stderr",
     "output_type": "stream",
     "text": [
      "C:\\Users\\28947\\Anaconda\\lib\\site-packages\\xgboost\\core.py:104: UserWarning: ntree_limit is deprecated, use `iteration_range` or model slicing instead.\n",
      "  UserWarning\n"
     ]
    },
    {
     "name": "stdout",
     "output_type": "stream",
     "text": [
      "[200]\ttrain-rmse:2536.68237\ttrain-eval_score:0.00905\tval-rmse:11737.42090\tval-eval_score:0.03879\n",
      "[400]\ttrain-rmse:1294.93982\ttrain-eval_score:0.00503\tval-rmse:11187.39356\tval-eval_score:0.03606\n",
      "[600]\ttrain-rmse:775.36554\ttrain-eval_score:0.00313\tval-rmse:11006.73438\tval-eval_score:0.03500\n",
      "[800]\ttrain-rmse:506.47592\ttrain-eval_score:0.00212\tval-rmse:10931.25586\tval-eval_score:0.03478\n",
      "[1000]\ttrain-rmse:343.39182\ttrain-eval_score:0.00144\tval-rmse:10904.73926\tval-eval_score:0.03471\n",
      "[1078]\ttrain-rmse:296.59699\ttrain-eval_score:0.00126\tval-rmse:10900.94043\tval-eval_score:0.03471\n",
      "Fold 2\n",
      "[0]\ttrain-rmse:185954.73438\ttrain-eval_score:0.89959\tval-rmse:190977.68750\tval-eval_score:0.90074\n"
     ]
    },
    {
     "name": "stderr",
     "output_type": "stream",
     "text": [
      "C:\\Users\\28947\\Anaconda\\lib\\site-packages\\xgboost\\core.py:104: UserWarning: ntree_limit is deprecated, use `iteration_range` or model slicing instead.\n",
      "  UserWarning\n"
     ]
    },
    {
     "name": "stdout",
     "output_type": "stream",
     "text": [
      "[200]\ttrain-rmse:2642.89014\ttrain-eval_score:0.00967\tval-rmse:5160.33838\tval-eval_score:0.02000\n",
      "[400]\ttrain-rmse:1378.57117\ttrain-eval_score:0.00526\tval-rmse:5211.40723\tval-eval_score:0.01986\n",
      "[578]\ttrain-rmse:875.93787\ttrain-eval_score:0.00344\tval-rmse:5296.90137\tval-eval_score:0.02017\n",
      "Fold 3\n",
      "[0]\ttrain-rmse:186051.20312\ttrain-eval_score:0.89931\tval-rmse:190063.37500\tval-eval_score:0.90004\n"
     ]
    },
    {
     "name": "stderr",
     "output_type": "stream",
     "text": [
      "C:\\Users\\28947\\Anaconda\\lib\\site-packages\\xgboost\\core.py:104: UserWarning: ntree_limit is deprecated, use `iteration_range` or model slicing instead.\n",
      "  UserWarning\n"
     ]
    },
    {
     "name": "stdout",
     "output_type": "stream",
     "text": [
      "[200]\ttrain-rmse:2519.51294\ttrain-eval_score:0.00929\tval-rmse:7820.83594\tval-eval_score:0.02807\n",
      "[400]\ttrain-rmse:1284.24463\ttrain-eval_score:0.00507\tval-rmse:8051.57373\tval-eval_score:0.02806\n",
      "[600]\ttrain-rmse:759.69037\ttrain-eval_score:0.00316\tval-rmse:8061.21582\tval-eval_score:0.02779\n",
      "[691]\ttrain-rmse:618.79327\ttrain-eval_score:0.00262\tval-rmse:8064.85986\tval-eval_score:0.02779\n",
      "Fold 4\n",
      "[0]\ttrain-rmse:187425.59375\ttrain-eval_score:0.89972\tval-rmse:177323.56250\tval-eval_score:0.89611\n"
     ]
    },
    {
     "name": "stderr",
     "output_type": "stream",
     "text": [
      "C:\\Users\\28947\\Anaconda\\lib\\site-packages\\xgboost\\core.py:104: UserWarning: ntree_limit is deprecated, use `iteration_range` or model slicing instead.\n",
      "  UserWarning\n"
     ]
    },
    {
     "name": "stdout",
     "output_type": "stream",
     "text": [
      "[200]\ttrain-rmse:2729.21704\ttrain-eval_score:0.00985\tval-rmse:6133.07129\tval-eval_score:0.02549\n",
      "[400]\ttrain-rmse:1410.68848\ttrain-eval_score:0.00541\tval-rmse:5770.90430\tval-eval_score:0.02364\n",
      "[600]\ttrain-rmse:845.47455\ttrain-eval_score:0.00333\tval-rmse:5656.52930\tval-eval_score:0.02314\n",
      "[800]\ttrain-rmse:546.92328\ttrain-eval_score:0.00219\tval-rmse:5619.10596\tval-eval_score:0.02283\n",
      "[1000]\ttrain-rmse:365.20410\ttrain-eval_score:0.00150\tval-rmse:5602.24121\tval-eval_score:0.02277\n",
      "[1200]\ttrain-rmse:253.56630\ttrain-eval_score:0.00104\tval-rmse:5589.68652\tval-eval_score:0.02266\n",
      "[1400]\ttrain-rmse:177.88223\ttrain-eval_score:0.00072\tval-rmse:5566.87939\tval-eval_score:0.02257\n",
      "[1600]\ttrain-rmse:127.66305\ttrain-eval_score:0.00052\tval-rmse:5562.77441\tval-eval_score:0.02257\n",
      "[1687]\ttrain-rmse:111.21701\ttrain-eval_score:0.00045\tval-rmse:5565.08936\tval-eval_score:0.02259\n",
      "Fold 5\n",
      "[0]\ttrain-rmse:187058.37500\ttrain-eval_score:0.89926\tval-rmse:180560.28125\tval-eval_score:0.89904\n"
     ]
    },
    {
     "name": "stderr",
     "output_type": "stream",
     "text": [
      "C:\\Users\\28947\\Anaconda\\lib\\site-packages\\xgboost\\core.py:104: UserWarning: ntree_limit is deprecated, use `iteration_range` or model slicing instead.\n",
      "  UserWarning\n"
     ]
    },
    {
     "name": "stdout",
     "output_type": "stream",
     "text": [
      "[200]\ttrain-rmse:2627.93604\ttrain-eval_score:0.00974\tval-rmse:5647.12305\tval-eval_score:0.01962\n",
      "[400]\ttrain-rmse:1334.87317\ttrain-eval_score:0.00522\tval-rmse:5454.14307\tval-eval_score:0.01816\n",
      "[567]\ttrain-rmse:853.80292\ttrain-eval_score:0.00341\tval-rmse:5400.87207\tval-eval_score:0.01862\n",
      "Fold 6\n",
      "[0]\ttrain-rmse:186565.46875\ttrain-eval_score:0.89928\tval-rmse:184246.76562\tval-eval_score:0.89696\n"
     ]
    },
    {
     "name": "stderr",
     "output_type": "stream",
     "text": [
      "C:\\Users\\28947\\Anaconda\\lib\\site-packages\\xgboost\\core.py:104: UserWarning: ntree_limit is deprecated, use `iteration_range` or model slicing instead.\n",
      "  UserWarning\n"
     ]
    },
    {
     "name": "stdout",
     "output_type": "stream",
     "text": [
      "[200]\ttrain-rmse:2524.94336\ttrain-eval_score:0.00915\tval-rmse:9183.11231\tval-eval_score:0.03121\n",
      "[400]\ttrain-rmse:1357.09436\ttrain-eval_score:0.00520\tval-rmse:8832.81445\tval-eval_score:0.02991\n",
      "[600]\ttrain-rmse:810.78345\ttrain-eval_score:0.00323\tval-rmse:8647.44043\tval-eval_score:0.02923\n",
      "[800]\ttrain-rmse:528.73724\ttrain-eval_score:0.00216\tval-rmse:8563.47754\tval-eval_score:0.02902\n",
      "[1000]\ttrain-rmse:355.00967\ttrain-eval_score:0.00147\tval-rmse:8535.03320\tval-eval_score:0.02894\n",
      "[1200]\ttrain-rmse:247.73035\ttrain-eval_score:0.00103\tval-rmse:8508.23047\tval-eval_score:0.02883\n",
      "[1400]\ttrain-rmse:176.78198\ttrain-eval_score:0.00075\tval-rmse:8494.35938\tval-eval_score:0.02881\n",
      "[1600]\ttrain-rmse:126.48299\ttrain-eval_score:0.00053\tval-rmse:8484.50293\tval-eval_score:0.02878\n",
      "[1800]\ttrain-rmse:91.12573\ttrain-eval_score:0.00038\tval-rmse:8482.68555\tval-eval_score:0.02879\n",
      "[1824]\ttrain-rmse:87.76920\ttrain-eval_score:0.00037\tval-rmse:8480.04199\tval-eval_score:0.02878\n",
      "Fold 7\n",
      "[0]\ttrain-rmse:186224.15625\ttrain-eval_score:0.89978\tval-rmse:188618.01562\tval-eval_score:0.89911\n"
     ]
    },
    {
     "name": "stderr",
     "output_type": "stream",
     "text": [
      "C:\\Users\\28947\\Anaconda\\lib\\site-packages\\xgboost\\core.py:104: UserWarning: ntree_limit is deprecated, use `iteration_range` or model slicing instead.\n",
      "  UserWarning\n"
     ]
    },
    {
     "name": "stdout",
     "output_type": "stream",
     "text": [
      "[200]\ttrain-rmse:2709.80127\ttrain-eval_score:0.00987\tval-rmse:7606.75879\tval-eval_score:0.02346\n",
      "[400]\ttrain-rmse:1355.98059\ttrain-eval_score:0.00535\tval-rmse:7000.34180\tval-eval_score:0.02193\n",
      "[600]\ttrain-rmse:820.75745\ttrain-eval_score:0.00338\tval-rmse:6910.53369\tval-eval_score:0.02186\n",
      "[786]\ttrain-rmse:542.10529\ttrain-eval_score:0.00230\tval-rmse:6897.01416\tval-eval_score:0.02193\n",
      "Fold 8\n",
      "[0]\ttrain-rmse:186369.42188\ttrain-eval_score:0.89977\tval-rmse:187320.32812\tval-eval_score:0.89867\n"
     ]
    },
    {
     "name": "stderr",
     "output_type": "stream",
     "text": [
      "C:\\Users\\28947\\Anaconda\\lib\\site-packages\\xgboost\\core.py:104: UserWarning: ntree_limit is deprecated, use `iteration_range` or model slicing instead.\n",
      "  UserWarning\n"
     ]
    },
    {
     "name": "stdout",
     "output_type": "stream",
     "text": [
      "[200]\ttrain-rmse:2527.95264\ttrain-eval_score:0.00927\tval-rmse:10525.94043\tval-eval_score:0.02848\n",
      "[400]\ttrain-rmse:1304.11023\ttrain-eval_score:0.00505\tval-rmse:10317.87207\tval-eval_score:0.02828\n",
      "[480]\ttrain-rmse:1050.57654\ttrain-eval_score:0.00413\tval-rmse:10314.51465\tval-eval_score:0.02832\n",
      "Fold 9\n",
      "[0]\ttrain-rmse:185972.85938\ttrain-eval_score:0.89958\tval-rmse:190685.87500\tval-eval_score:0.89989\n"
     ]
    },
    {
     "name": "stderr",
     "output_type": "stream",
     "text": [
      "C:\\Users\\28947\\Anaconda\\lib\\site-packages\\xgboost\\core.py:104: UserWarning: ntree_limit is deprecated, use `iteration_range` or model slicing instead.\n",
      "  UserWarning\n"
     ]
    },
    {
     "name": "stdout",
     "output_type": "stream",
     "text": [
      "[200]\ttrain-rmse:2527.45459\ttrain-eval_score:0.00928\tval-rmse:6374.47607\tval-eval_score:0.02301\n",
      "[400]\ttrain-rmse:1279.19568\ttrain-eval_score:0.00504\tval-rmse:6367.82178\tval-eval_score:0.02180\n",
      "[600]\ttrain-rmse:773.60675\ttrain-eval_score:0.00313\tval-rmse:6448.36475\tval-eval_score:0.02202\n",
      "[675]\ttrain-rmse:658.31433\ttrain-eval_score:0.00267\tval-rmse:6469.88281\tval-eval_score:0.02214\n",
      "A厂的验证集mape为0.004919269247579271\n",
      "error_score is: [102224891.28655185, 118854778.68600228, 26770257.71840844, 65084974.40166649, 30902313.915728055, 29552442.37129446, 71925437.45011666, 47800408.018996015, 108634680.92295016, 40989282.95833453]\n",
      "val_mean: 64273946.773004904\n",
      "val_std: 33144754.788244374\n"
     ]
    },
    {
     "name": "stderr",
     "output_type": "stream",
     "text": [
      "C:\\Users\\28947\\Anaconda\\lib\\site-packages\\xgboost\\core.py:104: UserWarning: ntree_limit is deprecated, use `iteration_range` or model slicing instead.\n",
      "  UserWarning\n"
     ]
    }
   ],
   "source": [
    "if __name__==\"__main__\":\n",
    "    #-----------------------树模型-----------------------\n",
    "    feature=['day_of_year', 'day_of_month', 'week_of_year',\n",
    "            'week_of_year', 'week_block_num', 'CH_day_of_month',\n",
    "            'CH_day_of_year', 'abs_year',]\n",
    "    #-------筛选数据月份---------\n",
    "    month_num=3\n",
    "    #----------------------------\n",
    "    train_input=train_day_df_A#训练集\n",
    "    train_input=train_input[(train_input['date']>='2019-07-01')].reset_index(drop=True)\n",
    "    test_input=test_day_df_A#测试集\n",
    "    train_x = train_input[feature].copy()\n",
    "    train_y = train_input['A']\n",
    "    test_x = test_input[feature].copy()\n",
    "    print('特征维度A：',train_x.shape)\n",
    "    #model,xgb_train, xgb_test, ol, cv_scores = xgb_model2(train_x, train_y, test_x)\n",
    "    model,xgb_train, xgb_test, ol, cv_scores = xgb_model2(train_x, train_y, test_x)\n",
    "    xgb_test_A=[i if i>0 else 0 for i in xgb_test]\n",
    "\n",
    "\n",
    "\n",
    "\n",
    "    train_input=train_day_df_B#训练集\n",
    "    train_input=train_input[(train_input['date']>='2019-06-01') ].reset_index(drop=True)\n",
    "    test_input=test_day_df_B#测试集\n",
    "    train_x = train_input[feature].copy()\n",
    "    train_y = train_input['B']\n",
    "    test_x = test_input[feature].copy()\n",
    "    print('特征维度B：',train_x.shape)\n",
    "    model,xgb_train, xgb_test, ol, cv_scores = xgb_model2(train_x, train_y, test_x)\n",
    "    xgb_test_B=[i if i>0 else 0 for i in xgb_test]\n",
    "\n",
    "    #\n",
    "    #------------------拼接文件------------------\n",
    "    pre_period=[]\n",
    "    pre_hour_A=xgb_test_A\n",
    "    pre_hour_B=xgb_test_B\n"
   ]
  },
  {
   "cell_type": "code",
   "execution_count": 35,
   "metadata": {},
   "outputs": [
    {
     "data": {
      "text/html": [
       "<div>\n",
       "<style scoped>\n",
       "    .dataframe tbody tr th:only-of-type {\n",
       "        vertical-align: middle;\n",
       "    }\n",
       "\n",
       "    .dataframe tbody tr th {\n",
       "        vertical-align: top;\n",
       "    }\n",
       "\n",
       "    .dataframe thead th {\n",
       "        text-align: right;\n",
       "    }\n",
       "</style>\n",
       "<table border=\"1\" class=\"dataframe\">\n",
       "  <thead>\n",
       "    <tr style=\"text-align: right;\">\n",
       "      <th></th>\n",
       "      <th>日期</th>\n",
       "      <th>A厂</th>\n",
       "      <th>B厂</th>\n",
       "    </tr>\n",
       "  </thead>\n",
       "  <tbody>\n",
       "    <tr>\n",
       "      <th>0</th>\n",
       "      <td>2020/11/01</td>\n",
       "      <td>263459</td>\n",
       "      <td>230627</td>\n",
       "    </tr>\n",
       "    <tr>\n",
       "      <th>1</th>\n",
       "      <td>2020/11/02</td>\n",
       "      <td>265694</td>\n",
       "      <td>231646</td>\n",
       "    </tr>\n",
       "    <tr>\n",
       "      <th>2</th>\n",
       "      <td>2020/11/03</td>\n",
       "      <td>265895</td>\n",
       "      <td>233853</td>\n",
       "    </tr>\n",
       "    <tr>\n",
       "      <th>3</th>\n",
       "      <td>2020/11/04</td>\n",
       "      <td>261536</td>\n",
       "      <td>238313</td>\n",
       "    </tr>\n",
       "    <tr>\n",
       "      <th>4</th>\n",
       "      <td>2020/11/05</td>\n",
       "      <td>259148</td>\n",
       "      <td>239645</td>\n",
       "    </tr>\n",
       "    <tr>\n",
       "      <th>...</th>\n",
       "      <td>...</td>\n",
       "      <td>...</td>\n",
       "      <td>...</td>\n",
       "    </tr>\n",
       "    <tr>\n",
       "      <th>146</th>\n",
       "      <td>2021/03/27</td>\n",
       "      <td>231128</td>\n",
       "      <td>156483</td>\n",
       "    </tr>\n",
       "    <tr>\n",
       "      <th>147</th>\n",
       "      <td>2021/03/28</td>\n",
       "      <td>229129</td>\n",
       "      <td>154746</td>\n",
       "    </tr>\n",
       "    <tr>\n",
       "      <th>148</th>\n",
       "      <td>2021/03/29</td>\n",
       "      <td>228212</td>\n",
       "      <td>155870</td>\n",
       "    </tr>\n",
       "    <tr>\n",
       "      <th>149</th>\n",
       "      <td>2021/03/30</td>\n",
       "      <td>228051</td>\n",
       "      <td>155829</td>\n",
       "    </tr>\n",
       "    <tr>\n",
       "      <th>150</th>\n",
       "      <td>2021/03/31</td>\n",
       "      <td>228545</td>\n",
       "      <td>158986</td>\n",
       "    </tr>\n",
       "  </tbody>\n",
       "</table>\n",
       "<p>151 rows × 3 columns</p>\n",
       "</div>"
      ],
      "text/plain": [
       "             日期      A厂      B厂\n",
       "0    2020/11/01  263459  230627\n",
       "1    2020/11/02  265694  231646\n",
       "2    2020/11/03  265895  233853\n",
       "3    2020/11/04  261536  238313\n",
       "4    2020/11/05  259148  239645\n",
       "..          ...     ...     ...\n",
       "146  2021/03/27  231128  156483\n",
       "147  2021/03/28  229129  154746\n",
       "148  2021/03/29  228212  155870\n",
       "149  2021/03/30  228051  155829\n",
       "150  2021/03/31  228545  158986\n",
       "\n",
       "[151 rows x 3 columns]"
      ]
     },
     "execution_count": 35,
     "metadata": {},
     "output_type": "execute_result"
    }
   ],
   "source": [
    "test_v11 = pd.read_csv('../data/test.csv')\n",
    "test_v11['A厂'] = xgb_test_A\n",
    "test_v11['B厂'] = xgb_test_B\n",
    "test_v11['A厂']=test_v11['A厂'].astype(int)\n",
    "test_v11['B厂']=test_v11['B厂'].astype(int)\n",
    "test_v11"
   ]
  },
  {
   "cell_type": "code",
   "execution_count": 36,
   "metadata": {},
   "outputs": [],
   "source": [
    "test_v11.to_csv('./data/xgb_fold_play.csv',index=False)"
   ]
  },
  {
   "cell_type": "code",
   "execution_count": 50,
   "metadata": {},
   "outputs": [
    {
     "data": {
      "text/html": [
       "<div>\n",
       "<style scoped>\n",
       "    .dataframe tbody tr th:only-of-type {\n",
       "        vertical-align: middle;\n",
       "    }\n",
       "\n",
       "    .dataframe tbody tr th {\n",
       "        vertical-align: top;\n",
       "    }\n",
       "\n",
       "    .dataframe thead th {\n",
       "        text-align: right;\n",
       "    }\n",
       "</style>\n",
       "<table border=\"1\" class=\"dataframe\">\n",
       "  <thead>\n",
       "    <tr style=\"text-align: right;\">\n",
       "      <th></th>\n",
       "      <th>date</th>\n",
       "      <th>A</th>\n",
       "      <th>B</th>\n",
       "    </tr>\n",
       "  </thead>\n",
       "  <tbody>\n",
       "    <tr>\n",
       "      <th>0</th>\n",
       "      <td>2020/11/1</td>\n",
       "      <td>272186.000</td>\n",
       "      <td>236361.000</td>\n",
       "    </tr>\n",
       "    <tr>\n",
       "      <th>1</th>\n",
       "      <td>2020/11/2</td>\n",
       "      <td>266976.000</td>\n",
       "      <td>243226.000</td>\n",
       "    </tr>\n",
       "    <tr>\n",
       "      <th>2</th>\n",
       "      <td>2020/11/3</td>\n",
       "      <td>268541.000</td>\n",
       "      <td>240503.000</td>\n",
       "    </tr>\n",
       "    <tr>\n",
       "      <th>3</th>\n",
       "      <td>2020/11/4</td>\n",
       "      <td>266992.000</td>\n",
       "      <td>236450.000</td>\n",
       "    </tr>\n",
       "    <tr>\n",
       "      <th>4</th>\n",
       "      <td>2020/11/5</td>\n",
       "      <td>267706.000</td>\n",
       "      <td>238724.000</td>\n",
       "    </tr>\n",
       "    <tr>\n",
       "      <th>...</th>\n",
       "      <td>...</td>\n",
       "      <td>...</td>\n",
       "      <td>...</td>\n",
       "    </tr>\n",
       "    <tr>\n",
       "      <th>146</th>\n",
       "      <td>2021/3/27</td>\n",
       "      <td>275920.803</td>\n",
       "      <td>259501.239</td>\n",
       "    </tr>\n",
       "    <tr>\n",
       "      <th>147</th>\n",
       "      <td>2021/3/28</td>\n",
       "      <td>274450.275</td>\n",
       "      <td>261258.480</td>\n",
       "    </tr>\n",
       "    <tr>\n",
       "      <th>148</th>\n",
       "      <td>2021/3/29</td>\n",
       "      <td>280419.300</td>\n",
       "      <td>263156.580</td>\n",
       "    </tr>\n",
       "    <tr>\n",
       "      <th>149</th>\n",
       "      <td>2021/3/30</td>\n",
       "      <td>280221.498</td>\n",
       "      <td>263087.649</td>\n",
       "    </tr>\n",
       "    <tr>\n",
       "      <th>150</th>\n",
       "      <td>2021/3/31</td>\n",
       "      <td>282427.290</td>\n",
       "      <td>263652.084</td>\n",
       "    </tr>\n",
       "  </tbody>\n",
       "</table>\n",
       "<p>151 rows × 3 columns</p>\n",
       "</div>"
      ],
      "text/plain": [
       "          date           A           B\n",
       "0    2020/11/1  272186.000  236361.000\n",
       "1    2020/11/2  266976.000  243226.000\n",
       "2    2020/11/3  268541.000  240503.000\n",
       "3    2020/11/4  266992.000  236450.000\n",
       "4    2020/11/5  267706.000  238724.000\n",
       "..         ...         ...         ...\n",
       "146  2021/3/27  275920.803  259501.239\n",
       "147  2021/3/28  274450.275  261258.480\n",
       "148  2021/3/29  280419.300  263156.580\n",
       "149  2021/3/30  280221.498  263087.649\n",
       "150  2021/3/31  282427.290  263652.084\n",
       "\n",
       "[151 rows x 3 columns]"
      ]
     },
     "execution_count": 50,
     "metadata": {},
     "output_type": "execute_result"
    }
   ],
   "source": [
    "df1 = pd.read_csv('./data/xgb_fold_play___guonian_999.csv')\n",
    "df1.columns=['date','A','B']\n",
    "df1"
   ]
  },
  {
   "cell_type": "code",
   "execution_count": 51,
   "metadata": {},
   "outputs": [
    {
     "data": {
      "text/html": [
       "<div>\n",
       "<style scoped>\n",
       "    .dataframe tbody tr th:only-of-type {\n",
       "        vertical-align: middle;\n",
       "    }\n",
       "\n",
       "    .dataframe tbody tr th {\n",
       "        vertical-align: top;\n",
       "    }\n",
       "\n",
       "    .dataframe thead th {\n",
       "        text-align: right;\n",
       "    }\n",
       "</style>\n",
       "<table border=\"1\" class=\"dataframe\">\n",
       "  <thead>\n",
       "    <tr style=\"text-align: right;\">\n",
       "      <th></th>\n",
       "      <th>日期</th>\n",
       "      <th>A厂</th>\n",
       "      <th>B厂</th>\n",
       "    </tr>\n",
       "  </thead>\n",
       "  <tbody>\n",
       "    <tr>\n",
       "      <th>0</th>\n",
       "      <td>2020/11/01</td>\n",
       "      <td>272186</td>\n",
       "      <td>236361</td>\n",
       "    </tr>\n",
       "    <tr>\n",
       "      <th>1</th>\n",
       "      <td>2020/11/02</td>\n",
       "      <td>266976</td>\n",
       "      <td>243226</td>\n",
       "    </tr>\n",
       "    <tr>\n",
       "      <th>2</th>\n",
       "      <td>2020/11/03</td>\n",
       "      <td>268541</td>\n",
       "      <td>240503</td>\n",
       "    </tr>\n",
       "    <tr>\n",
       "      <th>3</th>\n",
       "      <td>2020/11/04</td>\n",
       "      <td>266992</td>\n",
       "      <td>236450</td>\n",
       "    </tr>\n",
       "    <tr>\n",
       "      <th>4</th>\n",
       "      <td>2020/11/05</td>\n",
       "      <td>267706</td>\n",
       "      <td>238724</td>\n",
       "    </tr>\n",
       "    <tr>\n",
       "      <th>...</th>\n",
       "      <td>...</td>\n",
       "      <td>...</td>\n",
       "      <td>...</td>\n",
       "    </tr>\n",
       "    <tr>\n",
       "      <th>146</th>\n",
       "      <td>2021/03/27</td>\n",
       "      <td>275920</td>\n",
       "      <td>259501</td>\n",
       "    </tr>\n",
       "    <tr>\n",
       "      <th>147</th>\n",
       "      <td>2021/03/28</td>\n",
       "      <td>274450</td>\n",
       "      <td>261258</td>\n",
       "    </tr>\n",
       "    <tr>\n",
       "      <th>148</th>\n",
       "      <td>2021/03/29</td>\n",
       "      <td>280419</td>\n",
       "      <td>263156</td>\n",
       "    </tr>\n",
       "    <tr>\n",
       "      <th>149</th>\n",
       "      <td>2021/03/30</td>\n",
       "      <td>280221</td>\n",
       "      <td>263087</td>\n",
       "    </tr>\n",
       "    <tr>\n",
       "      <th>150</th>\n",
       "      <td>2021/03/31</td>\n",
       "      <td>282427</td>\n",
       "      <td>263652</td>\n",
       "    </tr>\n",
       "  </tbody>\n",
       "</table>\n",
       "<p>151 rows × 3 columns</p>\n",
       "</div>"
      ],
      "text/plain": [
       "             日期      A厂      B厂\n",
       "0    2020/11/01  272186  236361\n",
       "1    2020/11/02  266976  243226\n",
       "2    2020/11/03  268541  240503\n",
       "3    2020/11/04  266992  236450\n",
       "4    2020/11/05  267706  238724\n",
       "..          ...     ...     ...\n",
       "146  2021/03/27  275920  259501\n",
       "147  2021/03/28  274450  261258\n",
       "148  2021/03/29  280419  263156\n",
       "149  2021/03/30  280221  263087\n",
       "150  2021/03/31  282427  263652\n",
       "\n",
       "[151 rows x 3 columns]"
      ]
     },
     "execution_count": 51,
     "metadata": {},
     "output_type": "execute_result"
    }
   ],
   "source": [
    "test_v11 = pd.read_csv('../data/test.csv')\n",
    "test_v11['A厂'] = df1.A.astype(int)\n",
    "test_v11['B厂'] = df1.B.astype(int)\n",
    "test_v11"
   ]
  },
  {
   "cell_type": "code",
   "execution_count": 52,
   "metadata": {},
   "outputs": [],
   "source": [
    "test_v11.to_csv('./data/xgb_fold_play___guonian_999.csv',index=False)"
   ]
  },
  {
   "cell_type": "code",
   "execution_count": 40,
   "metadata": {},
   "outputs": [],
   "source": [
    "df1 = pd.read_csv('./data/xgb_fold_play___.csv')\n",
    "df1.columns=['date','A','B']\n",
    "\n",
    "df2 = pd.read_csv('./data/new_prophet_A_B_.csv')\n",
    "df2.columns=['date','A','B']"
   ]
  },
  {
   "cell_type": "code",
   "execution_count": 41,
   "metadata": {},
   "outputs": [
    {
     "data": {
      "text/html": [
       "<div>\n",
       "<style scoped>\n",
       "    .dataframe tbody tr th:only-of-type {\n",
       "        vertical-align: middle;\n",
       "    }\n",
       "\n",
       "    .dataframe tbody tr th {\n",
       "        vertical-align: top;\n",
       "    }\n",
       "\n",
       "    .dataframe thead th {\n",
       "        text-align: right;\n",
       "    }\n",
       "</style>\n",
       "<table border=\"1\" class=\"dataframe\">\n",
       "  <thead>\n",
       "    <tr style=\"text-align: right;\">\n",
       "      <th></th>\n",
       "      <th>日期</th>\n",
       "      <th>A厂</th>\n",
       "      <th>B厂</th>\n",
       "    </tr>\n",
       "  </thead>\n",
       "  <tbody>\n",
       "    <tr>\n",
       "      <th>0</th>\n",
       "      <td>2020/11/01</td>\n",
       "      <td>272186</td>\n",
       "      <td>236361</td>\n",
       "    </tr>\n",
       "    <tr>\n",
       "      <th>1</th>\n",
       "      <td>2020/11/02</td>\n",
       "      <td>266976</td>\n",
       "      <td>243226</td>\n",
       "    </tr>\n",
       "    <tr>\n",
       "      <th>2</th>\n",
       "      <td>2020/11/03</td>\n",
       "      <td>268541</td>\n",
       "      <td>240503</td>\n",
       "    </tr>\n",
       "    <tr>\n",
       "      <th>3</th>\n",
       "      <td>2020/11/04</td>\n",
       "      <td>266992</td>\n",
       "      <td>236450</td>\n",
       "    </tr>\n",
       "    <tr>\n",
       "      <th>4</th>\n",
       "      <td>2020/11/05</td>\n",
       "      <td>267706</td>\n",
       "      <td>238724</td>\n",
       "    </tr>\n",
       "    <tr>\n",
       "      <th>...</th>\n",
       "      <td>...</td>\n",
       "      <td>...</td>\n",
       "      <td>...</td>\n",
       "    </tr>\n",
       "    <tr>\n",
       "      <th>146</th>\n",
       "      <td>2021/03/27</td>\n",
       "      <td>276335</td>\n",
       "      <td>259488</td>\n",
       "    </tr>\n",
       "    <tr>\n",
       "      <th>147</th>\n",
       "      <td>2021/03/28</td>\n",
       "      <td>274520</td>\n",
       "      <td>261528</td>\n",
       "    </tr>\n",
       "    <tr>\n",
       "      <th>148</th>\n",
       "      <td>2021/03/29</td>\n",
       "      <td>280436</td>\n",
       "      <td>263557</td>\n",
       "    </tr>\n",
       "    <tr>\n",
       "      <th>149</th>\n",
       "      <td>2021/03/30</td>\n",
       "      <td>280506</td>\n",
       "      <td>263447</td>\n",
       "    </tr>\n",
       "    <tr>\n",
       "      <th>150</th>\n",
       "      <td>2021/03/31</td>\n",
       "      <td>282522</td>\n",
       "      <td>263632</td>\n",
       "    </tr>\n",
       "  </tbody>\n",
       "</table>\n",
       "<p>151 rows × 3 columns</p>\n",
       "</div>"
      ],
      "text/plain": [
       "             日期      A厂      B厂\n",
       "0    2020/11/01  272186  236361\n",
       "1    2020/11/02  266976  243226\n",
       "2    2020/11/03  268541  240503\n",
       "3    2020/11/04  266992  236450\n",
       "4    2020/11/05  267706  238724\n",
       "..          ...     ...     ...\n",
       "146  2021/03/27  276335  259488\n",
       "147  2021/03/28  274520  261528\n",
       "148  2021/03/29  280436  263557\n",
       "149  2021/03/30  280506  263447\n",
       "150  2021/03/31  282522  263632\n",
       "\n",
       "[151 rows x 3 columns]"
      ]
     },
     "execution_count": 41,
     "metadata": {},
     "output_type": "execute_result"
    }
   ],
   "source": [
    "test_v11 = pd.read_csv('../data/test.csv')\n",
    "test_v11['A厂'] = ((df1['A']+df2['A'])/2).astype(int)\n",
    "test_v11['B厂'] = ((df1['B']+df2['B'])/2).astype(int)\n",
    "\n",
    "test_v11"
   ]
  },
  {
   "cell_type": "code",
   "execution_count": 42,
   "metadata": {},
   "outputs": [],
   "source": [
    "test_v11.to_csv('./data/935mean_best.csv',index=False,encoding = 'utf-8')"
   ]
  },
  {
   "cell_type": "code",
   "execution_count": null,
   "metadata": {},
   "outputs": [],
   "source": []
  },
  {
   "cell_type": "code",
   "execution_count": null,
   "metadata": {},
   "outputs": [],
   "source": [
    "A厂的验证集mape为0.008533877773645235\n",
    "A厂的验证集mape为0.004919269247579271\n",
    "        params = {\n",
    "            'booster': 'gbtree',\n",
    "            'objective': 'reg:squarederror',\n",
    "            'min_child_weight':10,\n",
    "            'max_depth': 10,\n",
    "            'colsample_bylevel':0.8,\n",
    "            'subsample': 0.8,\n",
    "            'colsample_bytree': 0.8,\n",
    "            'learning_rate': 0.1,\n",
    "            'seed': 2021,\n",
    "            'nthread': 8,\n",
    "        }"
   ]
  }
 ],
 "metadata": {
  "kernelspec": {
   "display_name": "Python 3",
   "language": "python",
   "name": "python3"
  },
  "language_info": {
   "codemirror_mode": {
    "name": "ipython",
    "version": 3
   },
   "file_extension": ".py",
   "mimetype": "text/x-python",
   "name": "python",
   "nbconvert_exporter": "python",
   "pygments_lexer": "ipython3",
   "version": "3.7.6"
  }
 },
 "nbformat": 4,
 "nbformat_minor": 4
}
